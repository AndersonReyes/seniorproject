{
 "cells": [
  {
   "cell_type": "markdown",
   "metadata": {
    "colab_type": "text",
    "id": "IpsuN3k4yoAU"
   },
   "source": [
    "# Imports"
   ]
  },
  {
   "cell_type": "code",
   "execution_count": 4,
   "metadata": {
    "cellView": "both",
    "colab": {
     "autoexec": {
      "startup": false,
      "wait_interval": 0
     },
     "base_uri": "https://localhost:8080/",
     "height": 35,
     "output_extras": [
      {
       "item_id": 1
      }
     ]
    },
    "colab_type": "code",
    "collapsed": true,
    "executionInfo": {
     "elapsed": 2523,
     "status": "ok",
     "timestamp": 1521924185312,
     "user": {
      "displayName": "Anderson Reyes",
      "photoUrl": "https://lh3.googleusercontent.com/a/default-user=s128",
      "userId": "106280133875118223845"
     },
     "user_tz": 240
    },
    "id": "ssEar3vyckiO",
    "outputId": "0e9890ab-34da-419d-a2b9-d9417ae0ffa5"
   },
   "outputs": [],
   "source": [
    "import pandas as pd\n",
    "import numpy as np\n",
    "from sklearn.model_selection import train_test_split\n",
    "from keras.models import Sequential\n",
    "from keras.layers import Dense, Conv1D, MaxPool1D, concatenate\n",
    "from keras.layers import Dropout, Flatten, Input\n",
    "from keras.models import Model\n",
    "from keras.layers.embeddings import Embedding\n",
    "\n",
    "seed = 7\n",
    "np.random.seed(seed)"
   ]
  },
  {
   "cell_type": "markdown",
   "metadata": {
    "colab_type": "text",
    "id": "v6fg8hE8ckia"
   },
   "source": [
    "# Data loading"
   ]
  },
  {
   "cell_type": "code",
   "execution_count": 5,
   "metadata": {
    "colab": {
     "autoexec": {
      "startup": false,
      "wait_interval": 0
     }
    },
    "colab_type": "code",
    "collapsed": true,
    "id": "shFirOsAspdm"
   },
   "outputs": [],
   "source": [
    "categories = ['toxic', 'severe_toxic', 'obscene', 'threat', 'insult',\n",
    "              'identity_hate']"
   ]
  },
  {
   "cell_type": "markdown",
   "metadata": {
    "colab_type": "text",
    "id": "FCg8PiDPs_NO"
   },
   "source": [
    "### load the already preprocessed data"
   ]
  },
  {
   "cell_type": "code",
   "execution_count": 6,
   "metadata": {
    "colab": {
     "autoexec": {
      "startup": false,
      "wait_interval": 0
     }
    },
    "colab_type": "code",
    "collapsed": true,
    "id": "r7yo-ZC4gdIJ"
   },
   "outputs": [],
   "source": [
    "X = np.load('data/X.npy')\n",
    "Y = np.load('data/Y.npy')"
   ]
  },
  {
   "cell_type": "markdown",
   "metadata": {
    "colab_type": "text",
    "id": "yjtSUQOPrlzV"
   },
   "source": [
    "# Model\n"
   ]
  },
  {
   "cell_type": "markdown",
   "metadata": {
    "colab_type": "text",
    "id": "LIKM8se1s8Mb"
   },
   "source": [
    "set our parameters"
   ]
  },
  {
   "cell_type": "code",
   "execution_count": 10,
   "metadata": {
    "collapsed": true
   },
   "outputs": [],
   "source": [
    "vocab_size = 10000\n",
    "embedding_size = 128\n",
    "max_seq_length = 300\n",
    "n_filters = 128\n",
    "filter_sizes = [2, 3, 5]\n",
    "seed = 7\n",
    "output_size = len(categories)\n",
    "epoch = 10"
   ]
  },
  {
   "cell_type": "code",
   "execution_count": 11,
   "metadata": {
    "colab": {
     "autoexec": {
      "startup": false,
      "wait_interval": 0
     }
    },
    "colab_type": "code",
    "id": "piL9zMwPckja"
   },
   "outputs": [
    {
     "name": "stdout",
     "output_type": "stream",
     "text": [
      "__________________________________________________________________________________________________\n",
      "Layer (type)                    Output Shape         Param #     Connected to                     \n",
      "==================================================================================================\n",
      "input_2 (InputLayer)            (None, 300)          0                                            \n",
      "__________________________________________________________________________________________________\n",
      "embedding_2 (Embedding)         (None, 300, 128)     1280000     input_2[0][0]                    \n",
      "__________________________________________________________________________________________________\n",
      "conv1d_4 (Conv1D)               (None, 299, 128)     32896       embedding_2[0][0]                \n",
      "__________________________________________________________________________________________________\n",
      "conv1d_5 (Conv1D)               (None, 298, 128)     49280       embedding_2[0][0]                \n",
      "__________________________________________________________________________________________________\n",
      "conv1d_6 (Conv1D)               (None, 296, 128)     82048       embedding_2[0][0]                \n",
      "__________________________________________________________________________________________________\n",
      "max_pooling1d_4 (MaxPooling1D)  (None, 149, 128)     0           conv1d_4[0][0]                   \n",
      "__________________________________________________________________________________________________\n",
      "max_pooling1d_5 (MaxPooling1D)  (None, 99, 128)      0           conv1d_5[0][0]                   \n",
      "__________________________________________________________________________________________________\n",
      "max_pooling1d_6 (MaxPooling1D)  (None, 59, 128)      0           conv1d_6[0][0]                   \n",
      "__________________________________________________________________________________________________\n",
      "concatenate_2 (Concatenate)     (None, 307, 128)     0           max_pooling1d_4[0][0]            \n",
      "                                                                 max_pooling1d_5[0][0]            \n",
      "                                                                 max_pooling1d_6[0][0]            \n",
      "__________________________________________________________________________________________________\n",
      "flatten_2 (Flatten)             (None, 39296)        0           concatenate_2[0][0]              \n",
      "__________________________________________________________________________________________________\n",
      "dropout_2 (Dropout)             (None, 39296)        0           flatten_2[0][0]                  \n",
      "__________________________________________________________________________________________________\n",
      "dense_2 (Dense)                 (None, 6)            235782      dropout_2[0][0]                  \n",
      "==================================================================================================\n",
      "Total params: 1,680,006\n",
      "Trainable params: 1,680,006\n",
      "Non-trainable params: 0\n",
      "__________________________________________________________________________________________________\n",
      "None\n"
     ]
    }
   ],
   "source": [
    "seq_input = Input(shape=(max_seq_length, ), dtype='int32')\n",
    "model = Embedding(vocab_size, embedding_size,\n",
    "                       input_length=max_seq_length)(seq_input)\n",
    "\n",
    "# Convolution outputs in parallel will be using the input\n",
    "conv_outputs = []\n",
    "\n",
    "for size in filter_sizes:\n",
    "    sub_model = Conv1D(n_filters, size, activation='relu')(model)\n",
    "    sub_model = MaxPool1D(pool_size=size)(sub_model)\n",
    "    conv_outputs.append(sub_model)\n",
    "\n",
    "# Concatenate layers\n",
    "merged = concatenate(conv_outputs, axis=1)\n",
    "model = Flatten()(merged)\n",
    "model = Dropout(0.5)(model)\n",
    "model = Dense(output_size, activation='sigmoid')(model)\n",
    "model = Model(seq_input, model)\n",
    "model.compile(loss='binary_crossentropy', optimizer='rmsprop',\n",
    "                   metrics=['accuracy'])\n",
    "\n",
    "print(model.summary())"
   ]
  },
  {
   "cell_type": "markdown",
   "metadata": {
    "colab_type": "text",
    "id": "a3EDeG2ockji"
   },
   "source": [
    "# training"
   ]
  },
  {
   "cell_type": "code",
   "execution_count": 13,
   "metadata": {
    "collapsed": true
   },
   "outputs": [],
   "source": [
    "x_train, x_test, y_train , y_test = train_test_split(X, Y, test_size=.33)"
   ]
  },
  {
   "cell_type": "code",
   "execution_count": null,
   "metadata": {
    "colab": {
     "autoexec": {
      "startup": false,
      "wait_interval": 0
     },
     "base_uri": "https://localhost:8080/",
     "height": 3463,
     "output_extras": [
      {
       "item_id": 6
      },
      {
       "item_id": 7
      }
     ]
    },
    "colab_type": "code",
    "executionInfo": {
     "elapsed": 36081,
     "status": "error",
     "timestamp": 1521924721146,
     "user": {
      "displayName": "Anderson Reyes",
      "photoUrl": "https://lh3.googleusercontent.com/a/default-user=s128",
      "userId": "106280133875118223845"
     },
     "user_tz": 240
    },
    "id": "yLZbiySFVMxQ",
    "outputId": "52a493fc-3e1e-40ee-9e48-cca12d95a08e"
   },
   "outputs": [
    {
     "name": "stdout",
     "output_type": "stream",
     "text": [
      "Train on 106912 samples, validate on 52659 samples\n",
      "Epoch 1/20\n",
      "106912/106912 [==============================] - 1325s 12ms/step - loss: 0.0793 - acc: 0.9754 - val_loss: 0.0641 - val_acc: 0.9795\n",
      "Epoch 2/20\n",
      " 21888/106912 [=====>........................] - ETA: 15:06 - loss: 0.0619 - acc: 0.9798"
     ]
    }
   ],
   "source": [
    "hist = model.fit(x_train, y_train, validation_data=(x_test, y_test), epochs=20, batch_size=128)"
   ]
  },
  {
   "cell_type": "markdown",
   "metadata": {
    "colab_type": "text",
    "id": "CZ1_8XqZckj4"
   },
   "source": [
    "### save the model"
   ]
  },
  {
   "cell_type": "code",
   "execution_count": null,
   "metadata": {
    "colab": {
     "autoexec": {
      "startup": false,
      "wait_interval": 0
     }
    },
    "colab_type": "code",
    "collapsed": true,
    "id": "lwizHmQ0ckj6"
   },
   "outputs": [],
   "source": [
    "# # serialize model to JSON\n",
    "# model_json = model.to_json()\n",
    "# with open('./cnn_final.json', 'w') as json_file:\n",
    "#     json_file.write(model_json)\n",
    "# # serialize weights to HDF5\n",
    "# model.save_weights('./cnn_final.h5')"
   ]
  },
  {
   "cell_type": "code",
   "execution_count": null,
   "metadata": {
    "collapsed": true
   },
   "outputs": [],
   "source": []
  }
 ],
 "metadata": {
  "colab": {
   "collapsed_sections": [],
   "default_view": {},
   "name": "cnn_train.ipynb",
   "provenance": [
    {
     "file_id": "1D9A57OnnFon3bZr7fHAb5r0ZXmU9Dtnj",
     "timestamp": 1521480492321
    }
   ],
   "version": "0.3.2",
   "views": {}
  },
  "kernelspec": {
   "display_name": "Python 3",
   "language": "python",
   "name": "python3"
  },
  "language_info": {
   "codemirror_mode": {
    "name": "ipython",
    "version": 3
   },
   "file_extension": ".py",
   "mimetype": "text/x-python",
   "name": "python",
   "nbconvert_exporter": "python",
   "pygments_lexer": "ipython3",
   "version": "3.6.3"
  }
 },
 "nbformat": 4,
 "nbformat_minor": 1
}
